{
 "cells": [
  {
   "cell_type": "markdown",
   "id": "4459df34",
   "metadata": {},
   "source": [
    "# concurrent.futures\n",
    "\n",
    "\n",
    "Python实现多线程/多进程，大家常常会用到标准库中的threading和multiprocessing模块。\n",
    "\n",
    "但从Python3.2开始，标准库为我们提供了concurrent.futures模块，它提供了ThreadPoolExecutor和ProcessPoolExecutor两个类，\n",
    "实现了对threading和multiprocessing的进一步抽象，使得开发者只需编写少量代码即可让程序实现并行计算"
   ]
  },
  {
   "cell_type": "markdown",
   "id": "503e0266",
   "metadata": {},
   "source": [
    "**目录**\n",
    "\n",
    "> - \n",
    "> - \n",
    "> - "
   ]
  },
  {
   "cell_type": "markdown",
   "id": "53afa422",
   "metadata": {},
   "source": [
    "### 4个方法\n",
    "\n",
    "- Futures 中的 Executor 类，当我们执行 executor.submit(func) 时，它便会安排里面的 func() 函数执行，并返回创建好的 future 实例，以便你之后查询调用\n",
    "- Futures 中的方法 done()，表示相对应的操作是否完成——True 表示完成，False 表示没有完成。不过，要注意，done() 是 non-blocking 的，会立即返回结果。相对应的 add_done_callback(fn)，则表示 Futures 完成后，相对应的参数函数 fn，会被通知并执行调用\n",
    "- Futures 中还有一个重要的函数 result()，它表示当 future 完成后，返回其对应的结果或异常。\n",
    "- 而 as_completed(fs)，则是针对给定的 future 迭代器 fs，在其完成后，返回完成后的迭代器\n"
   ]
  },
  {
   "cell_type": "markdown",
   "id": "88e523cc",
   "metadata": {},
   "source": [
    "------------------"
   ]
  },
  {
   "cell_type": "markdown",
   "id": "780e3254",
   "metadata": {},
   "source": [
    "## 多进程\n",
    "\n",
    "\n"
   ]
  },
  {
   "cell_type": "markdown",
   "id": "53c5fade",
   "metadata": {},
   "source": [
    "基本Demo：这里可以参考`多进程multiprocessing`中的例子。"
   ]
  },
  {
   "cell_type": "markdown",
   "id": "c5d3b116",
   "metadata": {},
   "source": [
    "```python\n",
    "import time\n",
    "\n",
    "import concurrent.futures\n",
    "\n",
    "\n",
    "def do_something(seconds):\n",
    "    print(f'Sleeping {seconds} second(s)...')\n",
    "    time.sleep(seconds)\n",
    "    return \"Done Sleeping...\"\n",
    "\n",
    "\n",
    "def main():\n",
    "    start = time.perf_counter()\n",
    "\n",
    "    with concurrent.futures.ProcessPoolExecutor() as executor:\n",
    "        f1 = executor.submit(do_something, 1)\n",
    "        f2 = executor.submit(do_something, 1)\n",
    "        print(f1.result())\n",
    "        print(f2.result())\n",
    "    finish = time.perf_counter()\n",
    "\n",
    "    print(f'Finished in {round(finish - start, 2)} second(s)')\n",
    "\n",
    "\n",
    "if __name__ == \"__main__\":\n",
    "    main()\n",
    "```"
   ]
  },
  {
   "cell_type": "markdown",
   "id": "61d02b2a",
   "metadata": {},
   "source": [
    "运行结果为：\n",
    "```bash\n",
    "Sleeping 1 second(s)...\n",
    "Sleeping 1 second(s)...\n",
    "Done Sleeping...\n",
    "Done Sleeping...\n",
    "Finished in 1.13 second(s)\n",
    "```"
   ]
  },
  {
   "cell_type": "raw",
   "id": "9c2e9f1a",
   "metadata": {},
   "source": [
    "当执行多次时，可以使用循环："
   ]
  },
  {
   "cell_type": "markdown",
   "id": "6bce58be",
   "metadata": {},
   "source": [
    "```python\n",
    "import time\n",
    "\n",
    "import concurrent.futures\n",
    "\n",
    "\n",
    "def do_something(seconds):\n",
    "    print(f'Sleeping {seconds} second(s)...')\n",
    "    time.sleep(seconds)\n",
    "    return \"Done Sleeping...\"\n",
    "\n",
    "\n",
    "def main():\n",
    "    start = time.perf_counter()\n",
    "    with concurrent.futures.ProcessPoolExecutor() as executor:\n",
    "        results = [executor.submit(do_something, 1) for _ in range(10)]\n",
    "    for f in concurrent.futures.as_completed(results):\n",
    "        print(f.result())\n",
    "    finish = time.perf_counter()\n",
    "    print(f'Finished in {round(finish - start, 2)} second(s)')\n",
    "\n",
    "\n",
    "if __name__ == \"__main__\":\n",
    "    main()\n",
    "```"
   ]
  },
  {
   "cell_type": "markdown",
   "id": "304220ac",
   "metadata": {},
   "source": [
    "运行结果为：\n",
    "```bash\n",
    "Sleeping 1 second(s)...\n",
    "Sleeping 1 second(s)...\n",
    "Sleeping 1 second(s)...\n",
    "Sleeping 1 second(s)...\n",
    "Sleeping 1 second(s)...\n",
    "Sleeping 1 second(s)...\n",
    "Sleeping 1 second(s)...\n",
    "Sleeping 1 second(s)...\n",
    "Sleeping 1 second(s)...\n",
    "Sleeping 1 second(s)...\n",
    "Done Sleeping...\n",
    "Done Sleeping...\n",
    "Done Sleeping...\n",
    "Done Sleeping...\n",
    "Done Sleeping...\n",
    "Done Sleeping...\n",
    "Done Sleeping...\n",
    "Done Sleeping...\n",
    "Done Sleeping...\n",
    "Done Sleeping...\n",
    "Finished in 2.17 second(s)\n",
    "```"
   ]
  },
  {
   "cell_type": "raw",
   "id": "15c510b2",
   "metadata": {},
   "source": [
    "带参数使用：（这里可以使用不同的参数）"
   ]
  },
  {
   "cell_type": "markdown",
   "id": "bd19eef6",
   "metadata": {},
   "source": [
    "```python\n",
    "import time\n",
    "\n",
    "import concurrent.futures\n",
    "\n",
    "\n",
    "def do_something(seconds):\n",
    "    print(f'Sleeping {seconds} second(s)...')\n",
    "    time.sleep(seconds)\n",
    "    return \"Done Sleeping...\"\n",
    "\n",
    "\n",
    "def main():\n",
    "    start = time.perf_counter()\n",
    "    with concurrent.futures.ProcessPoolExecutor() as executor:\n",
    "        secs = [5, 4, 3, 2, 1]\n",
    "        results = [executor.submit(do_something, sec) for sec in secs]\n",
    "    for f in concurrent.futures.as_completed(results):\n",
    "        print(f.result())\n",
    "    finish = time.perf_counter()\n",
    "    print(f'Finished in {round(finish - start, 2)} second(s)')\n",
    "\n",
    "\n",
    "if __name__ == \"__main__\":\n",
    "    main()\n",
    "```"
   ]
  },
  {
   "cell_type": "markdown",
   "id": "33f79995",
   "metadata": {},
   "source": [
    "运行结果为：\n",
    "```bash\n",
    "Sleeping 5 second(s)...\n",
    "Sleeping 4 second(s)...\n",
    "Sleeping 3 second(s)...\n",
    "Sleeping 2 second(s)...\n",
    "Sleeping 1 second(s)...\n",
    "Done Sleeping...\n",
    "Done Sleeping...\n",
    "Done Sleeping...\n",
    "Done Sleeping...\n",
    "Done Sleeping...\n",
    "Finished in 5.14 second(s)\n",
    "```"
   ]
  },
  {
   "cell_type": "raw",
   "id": "7adb6c56",
   "metadata": {},
   "source": [
    "带参数使用时，还可以使用map()"
   ]
  },
  {
   "cell_type": "markdown",
   "id": "8c45ec75",
   "metadata": {},
   "source": [
    "```python\n",
    "import time\n",
    "\n",
    "import concurrent.futures\n",
    "\n",
    "\n",
    "def do_something(seconds):\n",
    "    print(f'Sleeping {seconds} second(s)...')\n",
    "    time.sleep(seconds)\n",
    "    return \"Done Sleeping...\"\n",
    "\n",
    "\n",
    "def main():\n",
    "    start = time.perf_counter()\n",
    "    with concurrent.futures.ProcessPoolExecutor() as executor:\n",
    "        secs = [5, 4, 3, 2, 1]\n",
    "        results = executor.map(do_something, secs)\n",
    "    for result in results:\n",
    "        print(result)\n",
    "    finish = time.perf_counter()\n",
    "    print(f'Finished in {round(finish - start, 2)} second(s)')\n",
    "\n",
    "\n",
    "if __name__ == \"__main__\":\n",
    "    main()\n",
    "```"
   ]
  },
  {
   "cell_type": "markdown",
   "id": "b8535c2e",
   "metadata": {},
   "source": [
    "运行结果为：\n",
    "```bash\n",
    "Sleeping 5 second(s)...\n",
    "Sleeping 4 second(s)...\n",
    "Sleeping 3 second(s)...\n",
    "Sleeping 2 second(s)...\n",
    "Sleeping 1 second(s)...\n",
    "Done Sleeping...\n",
    "Done Sleeping...\n",
    "Done Sleeping...\n",
    "Done Sleeping...\n",
    "Done Sleeping...\n",
    "Finished in 5.15 second(s)\n",
    "```"
   ]
  }
 ],
 "metadata": {
  "kernelspec": {
   "display_name": "Python 3 (ipykernel)",
   "language": "python",
   "name": "python3"
  },
  "language_info": {
   "codemirror_mode": {
    "name": "ipython",
    "version": 3
   },
   "file_extension": ".py",
   "mimetype": "text/x-python",
   "name": "python",
   "nbconvert_exporter": "python",
   "pygments_lexer": "ipython3",
   "version": "3.9.7"
  }
 },
 "nbformat": 4,
 "nbformat_minor": 5
}
