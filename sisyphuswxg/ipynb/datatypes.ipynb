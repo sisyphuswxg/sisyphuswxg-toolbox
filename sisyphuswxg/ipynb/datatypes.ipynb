{
 "cells": [
  {
   "cell_type": "markdown",
   "id": "90f59af9",
   "metadata": {},
   "source": [
    "# 基本数据类型"
   ]
  },
  {
   "cell_type": "markdown",
   "id": "15e62a34",
   "metadata": {},
   "source": [
    "Python使用**对象模型**来存储数据，每个值都有一个数据类型。\n",
    "\n",
    "『一切皆对象 => 数据类型实际上是类，而变量是这些类的实例（对象）』"
   ]
  },
  {
   "cell_type": "markdown",
   "id": "7d4f8b74",
   "metadata": {},
   "source": [
    "任何一个Python对象都有三个特性：\n",
    "\n",
    "* 身份：使用唯一的身份去标识。可以使用内建函数`id()`得到，是对象的内存地址\n",
    "* 类型：对象的类型决定了对象可以保存声明类型的值，可以进行什么样的操作，以及遵循什么样的规则。可使用`type()`得到。（注意：Python中类型也是对象 -> type()返回的是对象而不是简单的字符串，这里有点绕）\n",
    "* 值：对象表示的数据项"
   ]
  },
  {
   "cell_type": "code",
   "execution_count": 14,
   "id": "13e38649",
   "metadata": {},
   "outputs": [
    {
     "name": "stdout",
     "output_type": "stream",
     "text": [
      "<class 'int'>\n",
      "<class 'type'>\n"
     ]
    }
   ],
   "source": [
    "# demo:\n",
    "print(type(42))\n",
    "\n",
    "## 所有类型对象的类型都是type\n",
    "print(type(type(42)))"
   ]
  },
  {
   "cell_type": "markdown",
   "id": "7561bba8",
   "metadata": {},
   "source": [
    "-------------"
   ]
  },
  {
   "cell_type": "markdown",
   "id": "5cfe165a",
   "metadata": {},
   "source": [
    "## 基本数据类型\n",
    "\n",
    "是Python中内置数据类型，也称标准类型。\n",
    "\n",
    "\n",
    "分为五类：\n",
    "* Numeric 数值\n",
    "* Sequence Type 序列\n",
    "* Boolean 布尔\n",
    "* Set 集合\n",
    "* Dictionary 字典"
   ]
  },
  {
   "cell_type": "markdown",
   "id": "812731e2",
   "metadata": {},
   "source": [
    "### Numeric 数值\n",
    "\n",
    "在Python中，数值型又分为整数型、浮点型、复数型，分别对应int、float、complex类。\n",
    "\n",
    "* Integers 整型\n",
    "* Float 浮点型\n",
    "* Complex 复数型"
   ]
  },
  {
   "cell_type": "markdown",
   "id": "b2104e99",
   "metadata": {},
   "source": [
    "### Sequence Type 序列\n",
    "\n",
    "* String 字符串\n",
    "* List 列表\n",
    "* Tuple 元组"
   ]
  },
  {
   "cell_type": "markdown",
   "id": "b91f3415",
   "metadata": {},
   "source": [
    "### Boolean 布尔型"
   ]
  },
  {
   "cell_type": "markdown",
   "id": "681067fc",
   "metadata": {},
   "source": [
    "### Set 集合"
   ]
  },
  {
   "cell_type": "markdown",
   "id": "f92ad80f",
   "metadata": {},
   "source": [
    "### Dictionary 字典"
   ]
  },
  {
   "cell_type": "markdown",
   "id": "acb7d60c",
   "metadata": {},
   "source": [
    "------------"
   ]
  },
  {
   "cell_type": "markdown",
   "id": "e82ee362",
   "metadata": {},
   "source": [
    "## 可改变性\n",
    "\n",
    "如果对象支持更新操作，则它的值可以改变，否则就是只读，这一特性称为对象的*可改变性*。\n"
   ]
  },
  {
   "cell_type": "markdown",
   "id": "81148d7f",
   "metadata": {},
   "source": [
    "* 可变数据类型\n",
    "\n",
    "当该数据类型的对应变量值发生改变时，其对应的内存地址不会改变，这种数据类型称为可变数据类型。\n",
    "有：列表list、字典dict\n",
    "\n",
    "\n",
    "* 不可变数据类型\n",
    "当该数据类型的对应变量值发生改变时，其对应的内存地址也会改变，这种数据类型称为不可变数据类型。\n",
    "有：整型int、浮点型float、字符串型string、元组tuple"
   ]
  },
  {
   "cell_type": "code",
   "execution_count": null,
   "id": "ac66f4b7",
   "metadata": {},
   "outputs": [],
   "source": []
  }
 ],
 "metadata": {
  "kernelspec": {
   "display_name": "Python 3 (ipykernel)",
   "language": "python",
   "name": "python3"
  },
  "language_info": {
   "codemirror_mode": {
    "name": "ipython",
    "version": 3
   },
   "file_extension": ".py",
   "mimetype": "text/x-python",
   "name": "python",
   "nbconvert_exporter": "python",
   "pygments_lexer": "ipython3",
   "version": "3.9.7"
  }
 },
 "nbformat": 4,
 "nbformat_minor": 5
}
