{
 "cells": [
  {
   "cell_type": "markdown",
   "id": "f3a248b3",
   "metadata": {},
   "source": [
    "# 异常"
   ]
  },
  {
   "cell_type": "markdown",
   "id": "4c90b5ec",
   "metadata": {},
   "source": [
    "**目录**\n",
    "> - try-exception\n",
    "> - 自定义异常类\n",
    ">\n",
    ">\n",
    "> - 使用小技巧~~\n"
   ]
  },
  {
   "cell_type": "markdown",
   "id": "90622315",
   "metadata": {},
   "source": [
    "-------------"
   ]
  },
  {
   "cell_type": "markdown",
   "id": "9430fd15",
   "metadata": {},
   "source": [
    "## try-exception"
   ]
  },
  {
   "cell_type": "markdown",
   "id": "66a390aa",
   "metadata": {},
   "source": [
    "- 基本使用demo"
   ]
  },
  {
   "cell_type": "code",
   "execution_count": 3,
   "id": "fa302c24",
   "metadata": {},
   "outputs": [
    {
     "name": "stdout",
     "output_type": "stream",
     "text": [
      "Uups, file: not_existing.txt not found\n",
      "Exception: [Errno 2] No such file or directory: 'not_existing.txt' was raised\n"
     ]
    }
   ],
   "source": [
    "file_name = 'not_existing.txt'\n",
    "\n",
    "try:\n",
    "    with open(file_name, 'r') as my_file:\n",
    "        print('File is successfully open')\n",
    "        \n",
    "except FileNotFoundError as e:\n",
    "    print('Uups, file: {} not found'.format(file_name))\n",
    "    print('Exception: {} was raised'.format(e))"
   ]
  },
  {
   "cell_type": "markdown",
   "id": "9ad2e6b3",
   "metadata": {},
   "source": [
    "- 可以使用多个except子句"
   ]
  },
  {
   "cell_type": "code",
   "execution_count": 6,
   "id": "cfdc7695",
   "metadata": {},
   "outputs": [
    {
     "name": "stdout",
     "output_type": "stream",
     "text": [
      "result1: 1.0\n",
      "Exception: unsupported operand type(s) for /: 'int' and 'str'\n",
      "result2: 0\n",
      "Can't divide by zero\n",
      "result3: 0\n"
     ]
    }
   ],
   "source": [
    "def calculate_division(var1, var2):\n",
    "    result = 0\n",
    "    \n",
    "    try:\n",
    "        result = var1 / var2\n",
    "    except ZeroDivisionError as ex1:\n",
    "        print(\"Can't divide by zero\")\n",
    "    except Exception as ex2:\n",
    "        print('Exception: {}'.format(ex2))\n",
    "\n",
    "    return result\n",
    "\n",
    "\n",
    "result1 = calculate_division(3, 3)\n",
    "print('result1: {}'.format(result1))\n",
    "\n",
    "result2 = calculate_division(3, '3')\n",
    "print('result2: {}'.format(result2))\n",
    "\n",
    "result3 = calculate_division(3, 0)\n",
    "print('result3: {}'.format(result3))"
   ]
  },
  {
   "cell_type": "code",
   "execution_count": null,
   "id": "313374cb",
   "metadata": {},
   "outputs": [],
   "source": []
  },
  {
   "cell_type": "code",
   "execution_count": null,
   "id": "b3408bc0",
   "metadata": {},
   "outputs": [],
   "source": []
  },
  {
   "cell_type": "markdown",
   "id": "b8bc8df1",
   "metadata": {},
   "source": [
    "## 自定义异常类\n",
    "\n",
    "在实际项目中使用较多，经常需要自定义异常类。"
   ]
  },
  {
   "cell_type": "code",
   "execution_count": 13,
   "id": "83fe400f",
   "metadata": {},
   "outputs": [
    {
     "ename": "NegativeNumbersNotSupported",
     "evalue": "Negative number in at least one of the parameters: -1, 1",
     "output_type": "error",
     "traceback": [
      "\u001b[0;31m---------------------------------------------------------------------------\u001b[0m",
      "\u001b[0;31mNegativeNumbersNotSupported\u001b[0m               Traceback (most recent call last)",
      "\u001b[0;32m/var/folders/lz/t2t7xdbn71315k9c9j38gnd80000gn/T/ipykernel_76813/595833306.py\u001b[0m in \u001b[0;36m<module>\u001b[0;34m\u001b[0m\n\u001b[1;32m     15\u001b[0m \u001b[0;34m\u001b[0m\u001b[0m\n\u001b[1;32m     16\u001b[0m \u001b[0;34m\u001b[0m\u001b[0m\n\u001b[0;32m---> 17\u001b[0;31m \u001b[0mresult\u001b[0m \u001b[0;34m=\u001b[0m \u001b[0msecret_calculation\u001b[0m\u001b[0;34m(\u001b[0m\u001b[0;34m-\u001b[0m\u001b[0;36m1\u001b[0m\u001b[0;34m,\u001b[0m \u001b[0;36m1\u001b[0m\u001b[0;34m)\u001b[0m\u001b[0;34m\u001b[0m\u001b[0;34m\u001b[0m\u001b[0m\n\u001b[0m",
      "\u001b[0;32m/var/folders/lz/t2t7xdbn71315k9c9j38gnd80000gn/T/ipykernel_76813/595833306.py\u001b[0m in \u001b[0;36msecret_calculation\u001b[0;34m(number1, number2)\u001b[0m\n\u001b[1;32m     10\u001b[0m         msg = 'Negative number in at least one of the parameters: {}, {}'.format(\n\u001b[1;32m     11\u001b[0m             number1, number2)\n\u001b[0;32m---> 12\u001b[0;31m         \u001b[0;32mraise\u001b[0m \u001b[0mNegativeNumbersNotSupported\u001b[0m\u001b[0;34m(\u001b[0m\u001b[0mmsg\u001b[0m\u001b[0;34m)\u001b[0m\u001b[0;34m\u001b[0m\u001b[0;34m\u001b[0m\u001b[0m\n\u001b[0m\u001b[1;32m     13\u001b[0m \u001b[0;34m\u001b[0m\u001b[0m\n\u001b[1;32m     14\u001b[0m     \u001b[0;32mreturn\u001b[0m \u001b[0mmath\u001b[0m\u001b[0;34m.\u001b[0m\u001b[0msqrt\u001b[0m\u001b[0;34m(\u001b[0m\u001b[0mnumber1\u001b[0m\u001b[0;34m)\u001b[0m \u001b[0;34m+\u001b[0m \u001b[0mmath\u001b[0m\u001b[0;34m.\u001b[0m\u001b[0msqrt\u001b[0m\u001b[0;34m(\u001b[0m\u001b[0mnumber2\u001b[0m\u001b[0;34m)\u001b[0m\u001b[0;34m\u001b[0m\u001b[0;34m\u001b[0m\u001b[0m\n",
      "\u001b[0;31mNegativeNumbersNotSupported\u001b[0m: Negative number in at least one of the parameters: -1, 1"
     ]
    }
   ],
   "source": [
    "import math\n",
    "\n",
    "\n",
    "class NegativeNumbersNotSupported(Exception):\n",
    "    pass\n",
    "\n",
    "\n",
    "def secret_calculation(number1, number2):\n",
    "    if number1 < 0 or number2 < 0:\n",
    "        msg = 'Negative number in at least one of the parameters: {}, {}'.format(\n",
    "            number1, number2)\n",
    "        raise NegativeNumbersNotSupported(msg)\n",
    "\n",
    "    return math.sqrt(number1) + math.sqrt(number2)\n",
    "\n",
    "\n",
    "result = secret_calculation(-1, 1)"
   ]
  },
  {
   "cell_type": "markdown",
   "id": "42cc4dab",
   "metadata": {},
   "source": [
    "----------------"
   ]
  },
  {
   "cell_type": "markdown",
   "id": "ceb40897",
   "metadata": {},
   "source": [
    "## 使用小技巧"
   ]
  },
  {
   "cell_type": "markdown",
   "id": "4786b241",
   "metadata": {},
   "source": [
    "**try-except**的使用可以是在方法内部，也可以使用在调用函数时\n"
   ]
  },
  {
   "cell_type": "markdown",
   "id": "3754d0d9",
   "metadata": {},
   "source": [
    "- 在方法内部："
   ]
  },
  {
   "cell_type": "code",
   "execution_count": 12,
   "id": "7c4d635f",
   "metadata": {},
   "outputs": [
    {
     "name": "stdout",
     "output_type": "stream",
     "text": [
      "result1: 1.0\n"
     ]
    }
   ],
   "source": [
    "def calculate_division(var1, var2):\n",
    "    result = 0\n",
    "    \n",
    "    try:\n",
    "        result = var1 / var2\n",
    "    except ZeroDivisionError as ex1:\n",
    "        print(\"Can't divide by zero\")\n",
    "    except Exception as ex2:\n",
    "        print('Exception: {}'.format(ex2))\n",
    "    return result\n",
    "\n",
    "\n",
    "result1 = calculate_division(3, 3)\n",
    "print('result1: {}'.format(result1))"
   ]
  },
  {
   "cell_type": "markdown",
   "id": "16fc68b8",
   "metadata": {},
   "source": [
    "- 调用函数时使用"
   ]
  },
  {
   "cell_type": "code",
   "execution_count": 10,
   "id": "b4bf3bba",
   "metadata": {},
   "outputs": [
    {
     "name": "stdout",
     "output_type": "stream",
     "text": [
      "unsupported operand type(s) for /: 'int' and 'str'\n"
     ]
    }
   ],
   "source": [
    "def calculate_division(var1, var2):\n",
    "    return var1 / var2\n",
    "\n",
    "\n",
    "try:\n",
    "    result = calculate_division(3, '3')\n",
    "except Exception as e:\n",
    "    print(e)"
   ]
  },
  {
   "cell_type": "code",
   "execution_count": null,
   "id": "c4c5bb8c",
   "metadata": {},
   "outputs": [],
   "source": []
  },
  {
   "cell_type": "code",
   "execution_count": null,
   "id": "1eda2f2a",
   "metadata": {},
   "outputs": [],
   "source": []
  }
 ],
 "metadata": {
  "kernelspec": {
   "display_name": "Python 3 (ipykernel)",
   "language": "python",
   "name": "python3"
  },
  "language_info": {
   "codemirror_mode": {
    "name": "ipython",
    "version": 3
   },
   "file_extension": ".py",
   "mimetype": "text/x-python",
   "name": "python",
   "nbconvert_exporter": "python",
   "pygments_lexer": "ipython3",
   "version": "3.9.7"
  }
 },
 "nbformat": 4,
 "nbformat_minor": 5
}
