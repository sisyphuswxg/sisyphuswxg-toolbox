{
 "cells": [
  {
   "cell_type": "markdown",
   "id": "97f1b45d",
   "metadata": {},
   "source": [
    "# 列表\n",
    "\n",
    "列表是由一系列按特定元素顺序排列的元素组成的有序集合，用中括号`[]`表示，元素之间用逗号分开。"
   ]
  },
  {
   "cell_type": "markdown",
   "id": "196b9f89",
   "metadata": {},
   "source": [
    "\n",
    ">**目录**\n",
    ">- 创建列表\n",
    ">- 获取元素\n",
    ">- 添加元素\n",
    ">- 更新元素\n",
    ">- 删除元素\n",
    ">- 判断元素是否在列表中\n",
    ">- 列表切片\n",
    "> - 多维列表\n",
    "> - \n",
    "> - 其他小知识点~~\n",
    "> - \n",
    "> - 常用列表方法"
   ]
  },
  {
   "cell_type": "markdown",
   "id": "31f27960",
   "metadata": {},
   "source": [
    "---------"
   ]
  },
  {
   "cell_type": "markdown",
   "id": "0b2c2f39",
   "metadata": {},
   "source": [
    "## 创建列表"
   ]
  },
  {
   "cell_type": "markdown",
   "id": "686aac1f",
   "metadata": {},
   "source": [
    "- 创建列表"
   ]
  },
  {
   "cell_type": "code",
   "execution_count": 16,
   "id": "e1a8c0cc",
   "metadata": {},
   "outputs": [
    {
     "name": "stdout",
     "output_type": "stream",
     "text": [
      "<class 'list'>\n"
     ]
    }
   ],
   "source": [
    "list1 = ['hello', 'world']\n",
    "print(type(list1))"
   ]
  },
  {
   "cell_type": "markdown",
   "id": "99e4af78",
   "metadata": {},
   "source": [
    "- 创建空列表：使用[]"
   ]
  },
  {
   "cell_type": "code",
   "execution_count": 80,
   "id": "56f6a800",
   "metadata": {},
   "outputs": [
    {
     "name": "stdout",
     "output_type": "stream",
     "text": [
      "<class 'list'>\n"
     ]
    }
   ],
   "source": [
    "list1 = []\n",
    "print(type(list1))"
   ]
  },
  {
   "cell_type": "markdown",
   "id": "3a35b36e",
   "metadata": {},
   "source": [
    "- 创建空列表：使用list()"
   ]
  },
  {
   "cell_type": "code",
   "execution_count": 78,
   "id": "5131b0d2",
   "metadata": {},
   "outputs": [
    {
     "name": "stdout",
     "output_type": "stream",
     "text": [
      "<class 'list'>\n"
     ]
    }
   ],
   "source": [
    "list1 = list()\n",
    "print(type(list3))"
   ]
  },
  {
   "cell_type": "markdown",
   "id": "2006a436",
   "metadata": {},
   "source": [
    "- 使用列表推导器"
   ]
  },
  {
   "cell_type": "code",
   "execution_count": 81,
   "id": "8e7d320b",
   "metadata": {},
   "outputs": [
    {
     "name": "stdout",
     "output_type": "stream",
     "text": [
      "[0, 1, 2, 3, 4, 5, 6, 7, 8, 9]\n"
     ]
    }
   ],
   "source": [
    "list1 = [x for x in range(10)]\n",
    "print(list1)"
   ]
  },
  {
   "cell_type": "markdown",
   "id": "c50fbd69",
   "metadata": {},
   "source": [
    "----------"
   ]
  },
  {
   "cell_type": "markdown",
   "id": "e2f434eb",
   "metadata": {},
   "source": [
    "## 获取元素"
   ]
  },
  {
   "cell_type": "markdown",
   "id": "1a4f15fc",
   "metadata": {},
   "source": [
    "可以使用索引获取列表中的元素，索引从0开始，可以使用负数索引。"
   ]
  },
  {
   "cell_type": "markdown",
   "id": "d5cd2b21",
   "metadata": {},
   "source": [
    "- 使用索引获取列表中的元素"
   ]
  },
  {
   "cell_type": "code",
   "execution_count": 20,
   "id": "21526e05",
   "metadata": {},
   "outputs": [
    {
     "name": "stdout",
     "output_type": "stream",
     "text": [
      "me\n"
     ]
    }
   ],
   "source": [
    "list4 = ['I', 'my', 'me', 'mine']\n",
    "print(list4[2])"
   ]
  },
  {
   "cell_type": "markdown",
   "id": "4069c596",
   "metadata": {},
   "source": [
    "- 索引从0开始（表示第一个元素）"
   ]
  },
  {
   "cell_type": "code",
   "execution_count": 21,
   "id": "e084b4e3",
   "metadata": {},
   "outputs": [
    {
     "name": "stdout",
     "output_type": "stream",
     "text": [
      "I\n"
     ]
    }
   ],
   "source": [
    "list5 = ['I', 'my', 'me', 'mine']\n",
    "print(list4[0])"
   ]
  },
  {
   "cell_type": "markdown",
   "id": "d5b091c4",
   "metadata": {},
   "source": [
    "- 索引可以是负数"
   ]
  },
  {
   "cell_type": "code",
   "execution_count": 22,
   "id": "4e363925",
   "metadata": {},
   "outputs": [
    {
     "name": "stdout",
     "output_type": "stream",
     "text": [
      "mine\n"
     ]
    }
   ],
   "source": [
    "list6 = ['I', 'my', 'me', 'mine']\n",
    "print(list4[-1])"
   ]
  },
  {
   "cell_type": "markdown",
   "id": "b903c922",
   "metadata": {},
   "source": [
    "----"
   ]
  },
  {
   "cell_type": "markdown",
   "id": "b0fd7def",
   "metadata": {},
   "source": [
    "## 添加元素\n",
    "\n",
    "Python中提供了以下几个方法为列表添加元素：\n",
    "- append()\n",
    "- extend()\n",
    "- insert()\n",
    "- +"
   ]
  },
  {
   "cell_type": "markdown",
   "id": "7a395665",
   "metadata": {},
   "source": [
    "**append()**：在列表最后位置添加，且每次只能添加一个元素"
   ]
  },
  {
   "cell_type": "code",
   "execution_count": 29,
   "id": "c2aff704",
   "metadata": {},
   "outputs": [
    {
     "name": "stdout",
     "output_type": "stream",
     "text": [
      "['we', 'our', 'us', 'yours', 'what']\n"
     ]
    }
   ],
   "source": [
    "list1 = ['we', 'our', 'us', 'yours']\n",
    "list1.append('what')\n",
    "print(list1)"
   ]
  },
  {
   "cell_type": "markdown",
   "id": "42b36489",
   "metadata": {},
   "source": [
    "**extend()**：在列表最后位置添加，一次可添加多个元素"
   ]
  },
  {
   "cell_type": "code",
   "execution_count": 31,
   "id": "24d5ec1d",
   "metadata": {},
   "outputs": [
    {
     "name": "stdout",
     "output_type": "stream",
     "text": [
      "['hello', 'world', 1, 2, 3]\n"
     ]
    }
   ],
   "source": [
    "list1 = ['hello', 'world']\n",
    "list1.extend([1, 2, 3])\n",
    "print(list1)"
   ]
  },
  {
   "cell_type": "markdown",
   "id": "50491bc7",
   "metadata": {},
   "source": [
    "**insert()**：在列表的指定位置添加元素"
   ]
  },
  {
   "cell_type": "code",
   "execution_count": 34,
   "id": "6e96f715",
   "metadata": {},
   "outputs": [
    {
     "name": "stdout",
     "output_type": "stream",
     "text": [
      "['we', 'our', 'us', '🍑', 'yours']\n"
     ]
    }
   ],
   "source": [
    "list1 = ['we', 'our', 'us', 'yours']\n",
    "list1.insert(3, '🍑')\n",
    "print(list1)"
   ]
  },
  {
   "cell_type": "markdown",
   "id": "0f6bb991",
   "metadata": {},
   "source": [
    "**+**：对于多个列表组成一个新列表，还可以直接使用+操作符"
   ]
  },
  {
   "cell_type": "code",
   "execution_count": 36,
   "id": "1572b5a6",
   "metadata": {},
   "outputs": [
    {
     "name": "stdout",
     "output_type": "stream",
     "text": [
      "[1, 2, 3, 4, 5]\n"
     ]
    }
   ],
   "source": [
    "first = [1, 2, 3]\n",
    "second = [4, 5]\n",
    "first += second\n",
    "print(first)"
   ]
  },
  {
   "cell_type": "markdown",
   "id": "97f8769d",
   "metadata": {},
   "source": [
    "-------"
   ]
  },
  {
   "cell_type": "markdown",
   "id": "86802580",
   "metadata": {},
   "source": [
    "## 更新元素\n",
    "使用使用索引进行更新元素。"
   ]
  },
  {
   "cell_type": "code",
   "execution_count": 38,
   "id": "6e297469",
   "metadata": {},
   "outputs": [
    {
     "name": "stdout",
     "output_type": "stream",
     "text": [
      "[1, 2, 999, 4, 5, 6]\n"
     ]
    }
   ],
   "source": [
    "list1 = [1, 2, 3, 4, 5, 6]\n",
    "list1[2] = 999\n",
    "print(list1)"
   ]
  },
  {
   "cell_type": "markdown",
   "id": "fdf20c30",
   "metadata": {},
   "source": [
    "------"
   ]
  },
  {
   "cell_type": "markdown",
   "id": "79b6418d",
   "metadata": {},
   "source": [
    "## 删除元素\n",
    "Python中提供了以下几个方法来删除列表中的元素：\n",
    "- remove()\n",
    "- del list[index]\n",
    "- pop()"
   ]
  },
  {
   "cell_type": "markdown",
   "id": "ae0cacb3",
   "metadata": {},
   "source": [
    "**remove(item)**：移除特定元素。\n",
    "- 注意：若item不在列表中，会报错：ValueError"
   ]
  },
  {
   "cell_type": "code",
   "execution_count": 41,
   "id": "6671fb38",
   "metadata": {},
   "outputs": [
    {
     "name": "stdout",
     "output_type": "stream",
     "text": [
      "['sisyphuswxg', 'wangxg']\n"
     ]
    }
   ],
   "source": [
    "list1 = ['sisyphuswxg', 'yiyi', 'wangxg']\n",
    "list1.remove('yiyi')\n",
    "print(list1)"
   ]
  },
  {
   "cell_type": "code",
   "execution_count": 42,
   "id": "e5240f97",
   "metadata": {},
   "outputs": [
    {
     "ename": "ValueError",
     "evalue": "list.remove(x): x not in list",
     "output_type": "error",
     "traceback": [
      "\u001b[0;31m---------------------------------------------------------------------------\u001b[0m",
      "\u001b[0;31mValueError\u001b[0m                                Traceback (most recent call last)",
      "\u001b[0;32m/var/folders/lz/t2t7xdbn71315k9c9j38gnd80000gn/T/ipykernel_21469/3087080771.py\u001b[0m in \u001b[0;36m<module>\u001b[0;34m\u001b[0m\n\u001b[1;32m      1\u001b[0m \u001b[0mlist1\u001b[0m \u001b[0;34m=\u001b[0m \u001b[0;34m[\u001b[0m\u001b[0;34m'sisyphuswxg'\u001b[0m\u001b[0;34m,\u001b[0m \u001b[0;34m'yiyi'\u001b[0m\u001b[0;34m,\u001b[0m \u001b[0;34m'wangxg'\u001b[0m\u001b[0;34m]\u001b[0m\u001b[0;34m\u001b[0m\u001b[0;34m\u001b[0m\u001b[0m\n\u001b[0;32m----> 2\u001b[0;31m \u001b[0mlist1\u001b[0m\u001b[0;34m.\u001b[0m\u001b[0mremove\u001b[0m\u001b[0;34m(\u001b[0m\u001b[0;34m'mom'\u001b[0m\u001b[0;34m)\u001b[0m\u001b[0;34m\u001b[0m\u001b[0;34m\u001b[0m\u001b[0m\n\u001b[0m\u001b[1;32m      3\u001b[0m \u001b[0mprint\u001b[0m\u001b[0;34m(\u001b[0m\u001b[0mlist1\u001b[0m\u001b[0;34m)\u001b[0m\u001b[0;34m\u001b[0m\u001b[0;34m\u001b[0m\u001b[0m\n",
      "\u001b[0;31mValueError\u001b[0m: list.remove(x): x not in list"
     ]
    }
   ],
   "source": [
    "list1 = ['sisyphuswxg', 'yiyi', 'wangxg']\n",
    "list1.remove('mom')\n",
    "print(list1)"
   ]
  },
  {
   "cell_type": "markdown",
   "id": "643269eb",
   "metadata": {},
   "source": [
    "**del list[index]**：移除索引为index的元素\n",
    "- 注意：index需要在列表索引范围内，否则会报错：IndexError"
   ]
  },
  {
   "cell_type": "code",
   "execution_count": 43,
   "id": "cd58cf03",
   "metadata": {},
   "outputs": [
    {
     "name": "stdout",
     "output_type": "stream",
     "text": [
      "['sisyphuswxg', 'wangxg']\n"
     ]
    }
   ],
   "source": [
    "list1 = ['sisyphuswxg', 'yiyi', 'wangxg']\n",
    "del list1[1]\n",
    "print(list1)"
   ]
  },
  {
   "cell_type": "code",
   "execution_count": 44,
   "id": "11565a86",
   "metadata": {},
   "outputs": [
    {
     "ename": "IndexError",
     "evalue": "list assignment index out of range",
     "output_type": "error",
     "traceback": [
      "\u001b[0;31m---------------------------------------------------------------------------\u001b[0m",
      "\u001b[0;31mIndexError\u001b[0m                                Traceback (most recent call last)",
      "\u001b[0;32m/var/folders/lz/t2t7xdbn71315k9c9j38gnd80000gn/T/ipykernel_21469/3228338948.py\u001b[0m in \u001b[0;36m<module>\u001b[0;34m\u001b[0m\n\u001b[1;32m      1\u001b[0m \u001b[0mlist1\u001b[0m \u001b[0;34m=\u001b[0m \u001b[0;34m[\u001b[0m\u001b[0;34m'sisyphuswxg'\u001b[0m\u001b[0;34m,\u001b[0m \u001b[0;34m'yiyi'\u001b[0m\u001b[0;34m,\u001b[0m \u001b[0;34m'wangxg'\u001b[0m\u001b[0;34m]\u001b[0m\u001b[0;34m\u001b[0m\u001b[0;34m\u001b[0m\u001b[0m\n\u001b[0;32m----> 2\u001b[0;31m \u001b[0;32mdel\u001b[0m \u001b[0mlist1\u001b[0m\u001b[0;34m[\u001b[0m\u001b[0;36m5\u001b[0m\u001b[0;34m]\u001b[0m\u001b[0;34m\u001b[0m\u001b[0;34m\u001b[0m\u001b[0m\n\u001b[0m\u001b[1;32m      3\u001b[0m \u001b[0mprint\u001b[0m\u001b[0;34m(\u001b[0m\u001b[0mlist1\u001b[0m\u001b[0;34m)\u001b[0m\u001b[0;34m\u001b[0m\u001b[0;34m\u001b[0m\u001b[0m\n",
      "\u001b[0;31mIndexError\u001b[0m: list assignment index out of range"
     ]
    }
   ],
   "source": [
    "list1 = ['sisyphuswxg', 'yiyi', 'wangxg']\n",
    "del list1[5]\n",
    "print(list1)"
   ]
  },
  {
   "cell_type": "markdown",
   "id": "1fe9fac3",
   "metadata": {},
   "source": [
    "**pop()**：移除最后一个元素，且返回最后一个元素"
   ]
  },
  {
   "cell_type": "code",
   "execution_count": 45,
   "id": "b120a0b5",
   "metadata": {},
   "outputs": [
    {
     "name": "stdout",
     "output_type": "stream",
     "text": [
      "wangxg\n"
     ]
    }
   ],
   "source": [
    "list1 = ['sisyphuswxg', 'yiyi', 'wangxg']\n",
    "print(list1.pop())"
   ]
  },
  {
   "cell_type": "markdown",
   "id": "5d76be24",
   "metadata": {},
   "source": [
    "-----------"
   ]
  },
  {
   "cell_type": "markdown",
   "id": "b383049c",
   "metadata": {},
   "source": [
    "## 判断元素是否在列表中\n",
    "\n",
    "使用in操作符。"
   ]
  },
  {
   "cell_type": "code",
   "execution_count": 51,
   "id": "041e7bea",
   "metadata": {},
   "outputs": [
    {
     "name": "stdout",
     "output_type": "stream",
     "text": [
      "True\n",
      "False\n"
     ]
    }
   ],
   "source": [
    "# in\n",
    "list1 = ['sisyphuswxg', 'yiyi', 'wangxg']\n",
    "print(\"yiyi\" in list1)\n",
    "print(\"yy\" in list1)"
   ]
  },
  {
   "cell_type": "code",
   "execution_count": 50,
   "id": "f2198f80",
   "metadata": {},
   "outputs": [
    {
     "name": "stdout",
     "output_type": "stream",
     "text": [
      "False\n",
      "True\n"
     ]
    }
   ],
   "source": [
    "# not in\n",
    "list1 = ['sisyphuswxg', 'yiyi', 'wangxg']\n",
    "print(\"wangxg\" not in list1)\n",
    "print(\"wxg\" not in list1)"
   ]
  },
  {
   "cell_type": "markdown",
   "id": "1a418faa",
   "metadata": {},
   "source": [
    "--------------"
   ]
  },
  {
   "cell_type": "markdown",
   "id": "6d1491ae",
   "metadata": {},
   "source": [
    "## 列表切片\n",
    "\n",
    "通过列表切片可以获取列表中的部分元素，并且返回一个新的列表。"
   ]
  },
  {
   "cell_type": "markdown",
   "id": "8ec09db4",
   "metadata": {},
   "source": [
    "- list[start:end:step]：截取开始索引到结束索引的元素（不包括结束索引的元素）,step表示步长"
   ]
  },
  {
   "cell_type": "code",
   "execution_count": 53,
   "id": "755d6292",
   "metadata": {},
   "outputs": [
    {
     "name": "stdout",
     "output_type": "stream",
     "text": [
      "[2, 3, 4]\n"
     ]
    }
   ],
   "source": [
    "list1 = [0, 1, 2, 3, 4, 5, 6, 7, 8, 9]\n",
    "print(list1[2:5])"
   ]
  },
  {
   "cell_type": "markdown",
   "id": "ff7e714f",
   "metadata": {},
   "source": [
    "- start索引值可以为空：表示从索引为0处开始"
   ]
  },
  {
   "cell_type": "code",
   "execution_count": 54,
   "id": "6f2c1837",
   "metadata": {},
   "outputs": [
    {
     "name": "stdout",
     "output_type": "stream",
     "text": [
      "[0, 1, 2, 3, 4]\n"
     ]
    }
   ],
   "source": [
    "list1 = [0, 1, 2, 3, 4, 5, 6, 7, 8, 9]\n",
    "print(list1[:5])"
   ]
  },
  {
   "cell_type": "markdown",
   "id": "eeea7403",
   "metadata": {},
   "source": [
    "- end索引值可以为空：表示截取到列表末尾\n"
   ]
  },
  {
   "cell_type": "code",
   "execution_count": 55,
   "id": "4b8fdbf7",
   "metadata": {},
   "outputs": [
    {
     "name": "stdout",
     "output_type": "stream",
     "text": [
      "[3, 4, 5, 6, 7, 8, 9]\n"
     ]
    }
   ],
   "source": [
    "list1 = [0, 1, 2, 3, 4, 5, 6, 7, 8, 9]\n",
    "print(list1[3:])"
   ]
  },
  {
   "cell_type": "markdown",
   "id": "27631d8f",
   "metadata": {},
   "source": [
    "- step：表示步长（每个步长取一个元素）"
   ]
  },
  {
   "cell_type": "code",
   "execution_count": 59,
   "id": "5b5c71df",
   "metadata": {},
   "outputs": [
    {
     "name": "stdout",
     "output_type": "stream",
     "text": [
      "[0, 2, 4, 6, 8]\n"
     ]
    }
   ],
   "source": [
    "list1 = [0, 1, 2, 3, 4, 5, 6, 7, 8, 9]\n",
    "print(list1[0::2])"
   ]
  },
  {
   "cell_type": "markdown",
   "id": "c0080349",
   "metadata": {},
   "source": [
    "- 注意：切片操作不会引起下标越界异常。"
   ]
  },
  {
   "cell_type": "code",
   "execution_count": 60,
   "id": "b2d0fb62",
   "metadata": {},
   "outputs": [
    {
     "name": "stdout",
     "output_type": "stream",
     "text": [
      "[]\n"
     ]
    }
   ],
   "source": [
    "list1 = [0, 1, 2, 3, 4, 5, 6, 7, 8, 9]\n",
    "print(list1[100:])"
   ]
  },
  {
   "cell_type": "markdown",
   "id": "14eb4721",
   "metadata": {},
   "source": [
    "------------"
   ]
  },
  {
   "cell_type": "markdown",
   "id": "7c2d6508",
   "metadata": {},
   "source": [
    "## 多维列表"
   ]
  },
  {
   "cell_type": "markdown",
   "id": "2a15c799",
   "metadata": {},
   "source": [
    "- 使用索引获取元素"
   ]
  },
  {
   "cell_type": "code",
   "execution_count": 26,
   "id": "715694cc",
   "metadata": {},
   "outputs": [
    {
     "name": "stdout",
     "output_type": "stream",
     "text": [
      "13.3\n"
     ]
    }
   ],
   "source": [
    "coordinates = [[12.0, 13.3], [0.6, 18.0], [88.0, 1.1]]\n",
    "print(coordinates[0][1])"
   ]
  },
  {
   "cell_type": "markdown",
   "id": "28ee76f1",
   "metadata": {},
   "source": [
    "-----------"
   ]
  },
  {
   "cell_type": "markdown",
   "id": "8f6a2494",
   "metadata": {},
   "source": [
    "## 小知识点"
   ]
  },
  {
   "cell_type": "markdown",
   "id": "d3e23d2a",
   "metadata": {},
   "source": [
    "#### 列表是可变类型\n",
    "\n",
    "如下demo：modified和original是相同的引用，修改modified后，original也会跟着变。"
   ]
  },
  {
   "cell_type": "code",
   "execution_count": 61,
   "id": "5ff3f10a",
   "metadata": {},
   "outputs": [
    {
     "name": "stdout",
     "output_type": "stream",
     "text": [
      "[1000, 2, 3]\n",
      "[1000, 2, 3]\n"
     ]
    }
   ],
   "source": [
    "original = [1, 2, 3]\n",
    "modified = original\n",
    "modified[0] = 1000\n",
    "print(modified)\n",
    "print(original)"
   ]
  },
  {
   "cell_type": "markdown",
   "id": "14b0f066",
   "metadata": {},
   "source": [
    "#### list(iterable)\n",
    "\n",
    "若iterable已经是一个列表，则list()方法会复制并返回一个副本。\n",
    "如下demo：当modified中的元素改变会，并没有影响到original。"
   ]
  },
  {
   "cell_type": "code",
   "execution_count": 63,
   "id": "e0edf092",
   "metadata": {},
   "outputs": [
    {
     "name": "stdout",
     "output_type": "stream",
     "text": [
      "[1000, 2, 3, 4, 5]\n",
      "[1, 2, 3, 4, 5]\n"
     ]
    }
   ],
   "source": [
    "original = [1, 2, 3, 4 ,5]\n",
    "modified = list(original)\n",
    "modified[0] = 1000\n",
    "print(modified)\n",
    "print(original)"
   ]
  },
  {
   "cell_type": "markdown",
   "id": "da01c0bb",
   "metadata": {},
   "source": [
    "------------"
   ]
  },
  {
   "cell_type": "markdown",
   "id": "02c3bc29",
   "metadata": {},
   "source": [
    "## 常用列表方法"
   ]
  },
  {
   "cell_type": "markdown",
   "id": "846b60dc",
   "metadata": {},
   "source": [
    "**len()**：获取数组长度"
   ]
  },
  {
   "cell_type": "code",
   "execution_count": 68,
   "id": "5c373fbf",
   "metadata": {},
   "outputs": [
    {
     "name": "stdout",
     "output_type": "stream",
     "text": [
      "10\n"
     ]
    }
   ],
   "source": [
    "list1 = [0, 1, 2, 3, 4, 5, 6, 7, 8, 9]\n",
    "print(len(list1))"
   ]
  },
  {
   "cell_type": "markdown",
   "id": "eb5aa504",
   "metadata": {},
   "source": [
    "**max()**：获取列表中最大的元素值\n",
    "\n",
    "**min()**：获取列表中最小的元素值"
   ]
  },
  {
   "cell_type": "code",
   "execution_count": 69,
   "id": "60e52e14",
   "metadata": {},
   "outputs": [
    {
     "name": "stdout",
     "output_type": "stream",
     "text": [
      "9\n",
      "0\n"
     ]
    }
   ],
   "source": [
    "list1 = [0, 1, 2, 3, 4, 5, 6, 7, 8, 9]\n",
    "print(max(list1))\n",
    "print(min(list1))"
   ]
  },
  {
   "cell_type": "markdown",
   "id": "b584fde2",
   "metadata": {},
   "source": [
    " **count(item)**：返回元素item在list中出现的次数"
   ]
  },
  {
   "cell_type": "code",
   "execution_count": 70,
   "id": "456f3f8d",
   "metadata": {},
   "outputs": [
    {
     "name": "stdout",
     "output_type": "stream",
     "text": [
      "2\n"
     ]
    }
   ],
   "source": [
    "list1 = [0, 1, 2, 3, 4, 5, 4, 3, 2, 1, 0]\n",
    "print(list1.count(4))"
   ]
  },
  {
   "cell_type": "markdown",
   "id": "3ecae608",
   "metadata": {},
   "source": [
    "**list.reverse()**：将列表元素反转。（原数组元素发生变化）"
   ]
  },
  {
   "cell_type": "code",
   "execution_count": 72,
   "id": "3761c001",
   "metadata": {},
   "outputs": [
    {
     "name": "stdout",
     "output_type": "stream",
     "text": [
      "[9, 8, 7, 6, 5, 4, 3, 2, 1, 0]\n"
     ]
    }
   ],
   "source": [
    "list1 = [0, 1, 2, 3, 4, 5, 6, 7, 8, 9]\n",
    "list1.reverse()\n",
    "print(list1)"
   ]
  },
  {
   "cell_type": "markdown",
   "id": "aed2d266",
   "metadata": {},
   "source": [
    "**reversed()**：列表元素反转。（原数组不发生变化）。生成的不是列表（使用list()转换得到列表）"
   ]
  },
  {
   "cell_type": "code",
   "execution_count": 74,
   "id": "5be1d5a0",
   "metadata": {},
   "outputs": [
    {
     "name": "stdout",
     "output_type": "stream",
     "text": [
      "[0, 1, 2, 3, 4, 5, 6, 7, 8, 9]\n",
      "<list_reverseiterator object at 0x7faab072f580>\n",
      "[9, 8, 7, 6, 5, 4, 3, 2, 1, 0]\n"
     ]
    }
   ],
   "source": [
    "list1 = [0, 1, 2, 3, 4, 5, 6, 7, 8, 9]\n",
    "list2 = reversed(list1)\n",
    "print(list1)\n",
    "print(list2)\n",
    "print(list(list2))"
   ]
  },
  {
   "cell_type": "markdown",
   "id": "3e67f49d",
   "metadata": {},
   "source": [
    "**sort()**：列表中元素排序。（原数组发生变化）"
   ]
  },
  {
   "cell_type": "code",
   "execution_count": 75,
   "id": "958b5fd6",
   "metadata": {},
   "outputs": [
    {
     "name": "stdout",
     "output_type": "stream",
     "text": [
      "[1, 5, 6, 8, 10]\n"
     ]
    }
   ],
   "source": [
    "numbers = [8, 1, 6, 5, 10]\n",
    "numbers.sort()\n",
    "print(numbers)"
   ]
  },
  {
   "cell_type": "markdown",
   "id": "2c42a4ca",
   "metadata": {},
   "source": [
    "**sorted()**：列表中元素排序。（原数组不发生变化）"
   ]
  },
  {
   "cell_type": "code",
   "execution_count": 76,
   "id": "04d276f1",
   "metadata": {},
   "outputs": [
    {
     "name": "stdout",
     "output_type": "stream",
     "text": [
      "[8, 1, 6, 5, 10]\n",
      "[1, 5, 6, 8, 10]\n"
     ]
    }
   ],
   "source": [
    "numbers = [8, 1, 6, 5, 10]\n",
    "new_nums = sorted(numbers)\n",
    "print(numbers)\n",
    "print(new_nums)"
   ]
  },
  {
   "cell_type": "markdown",
   "id": "c19a4f06",
   "metadata": {},
   "source": [
    " **enumerate()**：将一个可迭代对象组合为一个索引序列，同时列出数据和数据下标"
   ]
  },
  {
   "cell_type": "code",
   "execution_count": 77,
   "id": "2d9167ee",
   "metadata": {},
   "outputs": [
    {
     "name": "stdout",
     "output_type": "stream",
     "text": [
      "0 sisyphuswxg\n",
      "1 yiyi\n",
      "2 wangxg\n"
     ]
    }
   ],
   "source": [
    "list1 = ['sisyphuswxg', 'yiyi', 'wangxg']\n",
    "for idx, item in enumerate(list1):\n",
    "    print(idx, item)"
   ]
  },
  {
   "cell_type": "code",
   "execution_count": null,
   "id": "40d2a1c3",
   "metadata": {},
   "outputs": [],
   "source": []
  },
  {
   "cell_type": "code",
   "execution_count": null,
   "id": "7ee781de",
   "metadata": {},
   "outputs": [],
   "source": []
  }
 ],
 "metadata": {
  "kernelspec": {
   "display_name": "Python 3 (ipykernel)",
   "language": "python",
   "name": "python3"
  },
  "language_info": {
   "codemirror_mode": {
    "name": "ipython",
    "version": 3
   },
   "file_extension": ".py",
   "mimetype": "text/x-python",
   "name": "python",
   "nbconvert_exporter": "python",
   "pygments_lexer": "ipython3",
   "version": "3.9.7"
  }
 },
 "nbformat": 4,
 "nbformat_minor": 5
}
