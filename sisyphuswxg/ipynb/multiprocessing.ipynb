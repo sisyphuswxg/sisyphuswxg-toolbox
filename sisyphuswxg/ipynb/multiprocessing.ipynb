{
 "cells": [
  {
   "cell_type": "markdown",
   "id": "05927e90",
   "metadata": {},
   "source": [
    "# 多进程"
   ]
  },
  {
   "cell_type": "markdown",
   "id": "dc77d4f7",
   "metadata": {},
   "source": [
    "**目录**\n",
    "\n",
    "> - \n",
    "> - \n",
    "> - "
   ]
  },
  {
   "cell_type": "markdown",
   "id": "923cf257",
   "metadata": {},
   "source": [
    "------------------"
   ]
  },
  {
   "cell_type": "code",
   "execution_count": null,
   "id": "76b0125d",
   "metadata": {},
   "outputs": [],
   "source": []
  },
  {
   "cell_type": "code",
   "execution_count": null,
   "id": "661e8dba",
   "metadata": {},
   "outputs": [],
   "source": []
  },
  {
   "cell_type": "markdown",
   "id": "e0342553",
   "metadata": {},
   "source": [
    "## 从一个例子 + 优化 学习多进程"
   ]
  },
  {
   "cell_type": "markdown",
   "id": "0cca5185",
   "metadata": {},
   "source": [
    "如下demo：do_something()函数"
   ]
  },
  {
   "cell_type": "markdown",
   "id": "d613940a",
   "metadata": {},
   "source": [
    "```python\n",
    "import time\n",
    "\n",
    "\n",
    "start = time.perf_counter()\n",
    "\n",
    "def do_something():    \n",
    "    print(\"Sleeping 1 second...\")\n",
    "    time.sleep(1)\n",
    "    print(\"Done Sleeping...\")\n",
    "    \n",
    "    \n",
    "do_something()\n",
    "finish = time.perf_counter()\n",
    "print(f'Finished in {round(finish-start, 2)} second(s)')\n",
    "```"
   ]
  },
  {
   "cell_type": "markdown",
   "id": "75a2bf63",
   "metadata": {},
   "source": [
    "若未使用多进程，即常规调用两次时，如下，耗时为2s多一点。"
   ]
  },
  {
   "cell_type": "markdown",
   "id": "5ce13014",
   "metadata": {},
   "source": [
    "```python\n",
    "import time\n",
    "\n",
    "\n",
    "start = time.perf_counter()\n",
    "\n",
    "def do_something():    \n",
    "    print(\"Sleeping 1 second...\")\n",
    "    time.sleep(1)\n",
    "    print(\"Done Sleeping...\")\n",
    "    \n",
    "\n",
    "# 调用两次：\n",
    "do_something()\n",
    "do_something()\n",
    "finish = time.perf_counter()\n",
    "print(f'Finished in {round(finish-start, 2)} second(s)')\n",
    "```"
   ]
  },
  {
   "cell_type": "markdown",
   "id": "d00d50c4",
   "metadata": {},
   "source": [
    "运行结果：\n",
    "```bash\n",
    "Sleeping 1 second...\n",
    "Done Sleeping...\n",
    "Sleeping 1 second...\n",
    "Done Sleeping...\n",
    "Finished in 2.01 second(s)\n",
    "```"
   ]
  },
  {
   "cell_type": "raw",
   "id": "e09c85c4",
   "metadata": {},
   "source": [
    "如上，会发现，CPU大部分的时间都在sleep等待。\n",
    "\n",
    "对于CPU密集型的任务，可以使用多进程。（对于CPU密集型的任务，不太适合使用多线程，因为创建和销毁线程也会消耗一部分资源）\n",
    "\n",
    "如下，使用多进程进行优化。将如下代码放置于一个py文件中运行："
   ]
  },
  {
   "cell_type": "markdown",
   "id": "4a4f0fa2",
   "metadata": {},
   "source": [
    "```python\n",
    "import time\n",
    "import multiprocessing\n",
    "\n",
    "\n",
    "def do_something():\n",
    "    print(\"Sleeping 1 second...\")\n",
    "    time.sleep(1)\n",
    "    print(\"Done Sleeping...\")\n",
    "\n",
    "\n",
    "def main():\n",
    "    start = time.perf_counter()\n",
    "    p1 = multiprocessing.Process(target=do_something)\n",
    "    p2 = multiprocessing.Process(target=do_something)\n",
    "    p1.start()\n",
    "    p2.start()\n",
    "    p1.join()\n",
    "    p2.join()\n",
    "\n",
    "    finish = time.perf_counter()\n",
    "    print(f'Finished in {round(finish - start, 2)} second(s)')\n",
    "\n",
    "\n",
    "if __name__ == \"__main__\":\n",
    "    main()\n",
    "```"
   ]
  },
  {
   "cell_type": "markdown",
   "id": "eaa91f57",
   "metadata": {},
   "source": [
    "运行结果为：(明显时间快了很多)\n",
    "```bash\n",
    "Sleeping 1 second...\n",
    "Sleeping 1 second...\n",
    "Done Sleeping...\n",
    "Done Sleeping...\n",
    "Finished in 1.08 second(s)\n",
    "```"
   ]
  },
  {
   "cell_type": "markdown",
   "id": "a3b6de33",
   "metadata": {},
   "source": [
    "--------------------"
   ]
  },
  {
   "cell_type": "raw",
   "id": "02718579",
   "metadata": {},
   "source": [
    "接着进阶：\n",
    "\n",
    "若依然是执行do_something()，但是要执行多次时，此时可以使用循环。"
   ]
  },
  {
   "cell_type": "markdown",
   "id": "8bdcc739",
   "metadata": {},
   "source": [
    "```python\n",
    "import time\n",
    "import multiprocessing\n",
    "\n",
    "\n",
    "def do_something():\n",
    "    print(\"Sleeping 1 second...\")\n",
    "    time.sleep(1)\n",
    "    print(\"Done Sleeping...\")\n",
    "\n",
    "\n",
    "def main():\n",
    "    start = time.perf_counter()\n",
    "\n",
    "    processes = []\n",
    "\n",
    "    for _ in range(10):\n",
    "        p = multiprocessing.Process(target=do_something)\n",
    "        p.start()\n",
    "        processes.append(p)\n",
    "\n",
    "    for process in processes:\n",
    "        process.join()\n",
    "\n",
    "    finish = time.perf_counter()\n",
    "    print(f'Finished in {round(finish - start, 2)} second(s)')\n",
    "\n",
    "\n",
    "if __name__ == \"__main__\":\n",
    "    main()\n",
    "```"
   ]
  },
  {
   "cell_type": "markdown",
   "id": "7f2a8a15",
   "metadata": {},
   "source": [
    "执行结果如下：（执行了10次，依然只用了1s多时间）\n",
    "```bash\n",
    "Sleeping 1 second...\n",
    "Sleeping 1 second...\n",
    "Sleeping 1 second...\n",
    "Sleeping 1 second...\n",
    "Sleeping 1 second...\n",
    "Sleeping 1 second...\n",
    "Sleeping 1 second...\n",
    "Sleeping 1 second...\n",
    "Sleeping 1 second...\n",
    "Sleeping 1 second...\n",
    "Done Sleeping...\n",
    "Done Sleeping...\n",
    "Done Sleeping...\n",
    "Done Sleeping...\n",
    "Done Sleeping...\n",
    "Done Sleeping...\n",
    "Done Sleeping...\n",
    "Done Sleeping...\n",
    "Done Sleeping...\n",
    "Done Sleeping...\n",
    "Finished in 1.15 second(s)\n",
    "```"
   ]
  },
  {
   "cell_type": "raw",
   "id": "0f83348a",
   "metadata": {},
   "source": [
    "接着进阶：\n",
    "\n",
    "给do_something()增加睡眠时间的参数。代码如下："
   ]
  },
  {
   "cell_type": "markdown",
   "id": "8d06f91f",
   "metadata": {},
   "source": [
    "```python\n",
    "import time\n",
    "import multiprocessing\n",
    "\n",
    "\n",
    "def do_something(sleep_time):\n",
    "    print(f\"Sleeping {sleep_time} second...\")\n",
    "    time.sleep(sleep_time)\n",
    "    print(\"Done Sleeping...\")\n",
    "\n",
    "\n",
    "def main():\n",
    "    start = time.perf_counter()\n",
    "\n",
    "    processes = []\n",
    "\n",
    "    for _ in range(10):\n",
    "        p = multiprocessing.Process(target=do_something, args=[1.5])\n",
    "        p.start()\n",
    "        processes.append(p)\n",
    "\n",
    "    for process in processes:\n",
    "        process.join()\n",
    "\n",
    "    finish = time.perf_counter()\n",
    "    print(f'Finished in {round(finish - start, 2)} second(s)')\n",
    "\n",
    "\n",
    "if __name__ == \"__main__\":\n",
    "    main()\n",
    "```"
   ]
  },
  {
   "cell_type": "markdown",
   "id": "1b9e2ad3",
   "metadata": {},
   "source": [
    "运行结果如下：\n",
    "```bash\n",
    "Sleeping 1.5 second...\n",
    "Sleeping 1.5 second...\n",
    "Sleeping 1.5 second...\n",
    "Sleeping 1.5 second...\n",
    "Sleeping 1.5 second...\n",
    "Sleeping 1.5 second...\n",
    "Sleeping 1.5 second...\n",
    "Sleeping 1.5 second...\n",
    "Sleeping 1.5 second...\n",
    "Sleeping 1.5 second...\n",
    "Done Sleeping...\n",
    "Done Sleeping...\n",
    "Done Sleeping...\n",
    "Done Sleeping...\n",
    "Done Sleeping...\n",
    "Done Sleeping...\n",
    "Done Sleeping...\n",
    "Done Sleeping...\n",
    "Done Sleeping...\n",
    "Done Sleeping...\n",
    "Finished in 1.65 second(s)\n",
    "```"
   ]
  },
  {
   "cell_type": "code",
   "execution_count": null,
   "id": "c39ba337",
   "metadata": {},
   "outputs": [],
   "source": []
  },
  {
   "cell_type": "code",
   "execution_count": null,
   "id": "9da99dd9",
   "metadata": {},
   "outputs": [],
   "source": []
  },
  {
   "cell_type": "code",
   "execution_count": null,
   "id": "04907651",
   "metadata": {},
   "outputs": [],
   "source": []
  }
 ],
 "metadata": {
  "kernelspec": {
   "display_name": "Python 3 (ipykernel)",
   "language": "python",
   "name": "python3"
  },
  "language_info": {
   "codemirror_mode": {
    "name": "ipython",
    "version": 3
   },
   "file_extension": ".py",
   "mimetype": "text/x-python",
   "name": "python",
   "nbconvert_exporter": "python",
   "pygments_lexer": "ipython3",
   "version": "3.9.7"
  }
 },
 "nbformat": 4,
 "nbformat_minor": 5
}
