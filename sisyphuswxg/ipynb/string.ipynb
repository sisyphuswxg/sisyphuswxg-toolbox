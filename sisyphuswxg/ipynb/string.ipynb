{
 "cells": [
  {
   "cell_type": "markdown",
   "id": "6f28bda9",
   "metadata": {},
   "source": [
    "# 字符串\n",
    "\n",
    "\n",
    "字符串是"
   ]
  },
  {
   "cell_type": "markdown",
   "id": "d5fd3f31",
   "metadata": {},
   "source": [
    "**目录**\n",
    ">- \n",
    ">- \n",
    ">- 其他小知识点~~\n",
    ">-\n",
    ">- 常用字符串方法\n",
    "\n"
   ]
  },
  {
   "cell_type": "markdown",
   "id": "8639a287",
   "metadata": {},
   "source": [
    "---------"
   ]
  },
  {
   "cell_type": "markdown",
   "id": "d1964374",
   "metadata": {},
   "source": [
    "---------"
   ]
  },
  {
   "cell_type": "markdown",
   "id": "279598f5",
   "metadata": {},
   "source": [
    "## 小知识点"
   ]
  },
  {
   "cell_type": "markdown",
   "id": "3be1c786",
   "metadata": {},
   "source": [
    "- 可以连续使用字符串方法。"
   ]
  },
  {
   "cell_type": "code",
   "execution_count": 11,
   "id": "b78e906a",
   "metadata": {},
   "outputs": [
    {
     "name": "stdout",
     "output_type": "stream",
     "text": [
      "this looks good\n"
     ]
    }
   ],
   "source": [
    "print('   ThIS LooKs BAd '.strip().lower().replace('bad', 'good'))"
   ]
  },
  {
   "cell_type": "markdown",
   "id": "5d3d64e1",
   "metadata": {},
   "source": [
    "-------------"
   ]
  },
  {
   "cell_type": "markdown",
   "id": "9937cbf9",
   "metadata": {},
   "source": [
    "## 常用字符串方法"
   ]
  },
  {
   "cell_type": "markdown",
   "id": "25b9d040",
   "metadata": {},
   "source": [
    "- len()：字符串长度"
   ]
  },
  {
   "cell_type": "code",
   "execution_count": 1,
   "id": "ee65a951",
   "metadata": {},
   "outputs": [
    {
     "name": "stdout",
     "output_type": "stream",
     "text": [
      "11\n"
     ]
    }
   ],
   "source": [
    "my_name = 'wangxuguang'\n",
    "print(len(my_name))"
   ]
  },
  {
   "cell_type": "markdown",
   "id": "a5cdf940",
   "metadata": {},
   "source": [
    "- **replace()**：字符串替换。\n",
    "\n",
    "把字符串中的旧字符串替换成新字符串。（满足条件的所有字符串都会替换）注意：原字符串不会变。"
   ]
  },
  {
   "cell_type": "code",
   "execution_count": 4,
   "id": "2492dbd4",
   "metadata": {},
   "outputs": [
    {
     "name": "stdout",
     "output_type": "stream",
     "text": [
      "Python is my favorite programming language!\n",
      "Python is my f?vorite progr?mming l?ngu?ge!\n"
     ]
    }
   ],
   "source": [
    "my_string = 'Python is my favorite programming language!'\n",
    "new_string = my_string.replace('a', '?')\n",
    "print(my_string)\n",
    "print(new_string)"
   ]
  },
  {
   "cell_type": "code",
   "execution_count": 5,
   "id": "9c604980",
   "metadata": {},
   "outputs": [
    {
     "name": "stdout",
     "output_type": "stream",
     "text": [
      "Python is my favorite programming language!\n",
      "Python will be my favorite programming language!\n"
     ]
    }
   ],
   "source": [
    "my_string = 'Python is my favorite programming language!'\n",
    "new_string = my_string.replace('is', 'will be')\n",
    "print(my_string)\n",
    "print(new_string)"
   ]
  },
  {
   "cell_type": "markdown",
   "id": "ef94b9b7",
   "metadata": {},
   "source": [
    "- **format()**：字符串格式化方法"
   ]
  },
  {
   "cell_type": "code",
   "execution_count": 1,
   "id": "f1760399",
   "metadata": {},
   "outputs": [
    {
     "name": "stdout",
     "output_type": "stream",
     "text": [
      "Python is cool\n",
      "My name is John Doe, you can call me John.\n",
      "My name is John Doe, you can call me John.\n"
     ]
    }
   ],
   "source": [
    "print('{} is cool'.format('Python'))\n",
    "print('My name is {} {}, you can call me {}.'.format('John', 'Doe', 'John'))\n",
    "print('My name is {first} {family}, you can call me {first}.'.format(first='John', family='Doe'))"
   ]
  },
  {
   "cell_type": "markdown",
   "id": "548b7f32",
   "metadata": {},
   "source": [
    "- **join()**：将序列中的元素以指定的字符连接生成一个新的字符串"
   ]
  },
  {
   "cell_type": "code",
   "execution_count": 3,
   "id": "2437b139",
   "metadata": {},
   "outputs": [
    {
     "name": "stdout",
     "output_type": "stream",
     "text": [
      "wangxuguang,sisyphuswxg,yiyi\n"
     ]
    }
   ],
   "source": [
    "list1 = ['wangxuguang', 'sisyphuswxg', 'yiyi']\n",
    "print(','.join(list1))"
   ]
  },
  {
   "cell_type": "markdown",
   "id": "208daa10",
   "metadata": {},
   "source": [
    "注意：连接字符串还可以使用`+`操作符，但其效率很低，不建议使用。"
   ]
  },
  {
   "cell_type": "code",
   "execution_count": 5,
   "id": "8079bf67",
   "metadata": {},
   "outputs": [
    {
     "name": "stdout",
     "output_type": "stream",
     "text": [
      "wangxuguang, sisyphuswxg, yiyi\n"
     ]
    }
   ],
   "source": [
    "print('wangxuguang' + ', ' + 'sisyphuswxg' + ', '+ 'yiyi')"
   ]
  },
  {
   "cell_type": "markdown",
   "id": "d849d801",
   "metadata": {},
   "source": [
    "- **split()**：通过指定分隔符对字符串进行切片，得到列表。"
   ]
  },
  {
   "cell_type": "code",
   "execution_count": 6,
   "id": "4ce22de0",
   "metadata": {},
   "outputs": [
    {
     "name": "stdout",
     "output_type": "stream",
     "text": [
      "['three', 'different', 'words']\n",
      "<class 'list'>\n"
     ]
    }
   ],
   "source": [
    "sentence = 'three different words'\n",
    "words = sentence.split()\n",
    "print(words)\n",
    "print(type(words))"
   ]
  },
  {
   "cell_type": "markdown",
   "id": "8d92f19b",
   "metadata": {},
   "source": [
    "注意：可以指定分隔符。"
   ]
  },
  {
   "cell_type": "code",
   "execution_count": 7,
   "id": "215d6c5f",
   "metadata": {},
   "outputs": [
    {
     "name": "stdout",
     "output_type": "stream",
     "text": [
      "['01001', '101101', '11100000']\n"
     ]
    }
   ],
   "source": [
    "secret_binary_data = '01001,101101,11100000'\n",
    "binaries = secret_binary_data.split(',')\n",
    "print(binaries)"
   ]
  },
  {
   "cell_type": "markdown",
   "id": "80c32fb7",
   "metadata": {},
   "source": [
    "- **upper()**：大写\n",
    "\n",
    "- **lower()**：小写\n",
    "\n",
    "- **title()**：首字母大写"
   ]
  },
  {
   "cell_type": "code",
   "execution_count": 9,
   "id": "99870496",
   "metadata": {},
   "outputs": [
    {
     "name": "stdout",
     "output_type": "stream",
     "text": [
      "PYTHON HACKER\n",
      "python hacker\n",
      "Python Hacker\n"
     ]
    }
   ],
   "source": [
    "print('PyTHoN hackER'.upper())\n",
    "print('PyTHoN hackER'.lower())\n",
    "print('PyTHoN hackER'.title())"
   ]
  },
  {
   "cell_type": "markdown",
   "id": "56f224f3",
   "metadata": {},
   "source": [
    "- **strip()**：移除字符串头尾指定的字符（默认为空格）或字符序列。"
   ]
  },
  {
   "cell_type": "code",
   "execution_count": 10,
   "id": "ff7cda74",
   "metadata": {},
   "outputs": [
    {
     "name": "stdout",
     "output_type": "stream",
     "text": [
      "Some story to tell\n"
     ]
    }
   ],
   "source": [
    "print(' \\n \\t Some story to tell '.strip())"
   ]
  },
  {
   "cell_type": "code",
   "execution_count": null,
   "id": "4fe4119c",
   "metadata": {},
   "outputs": [],
   "source": []
  },
  {
   "cell_type": "code",
   "execution_count": null,
   "id": "fb6cdd82",
   "metadata": {},
   "outputs": [],
   "source": []
  },
  {
   "cell_type": "code",
   "execution_count": null,
   "id": "35baaa48",
   "metadata": {},
   "outputs": [],
   "source": []
  }
 ],
 "metadata": {
  "kernelspec": {
   "display_name": "Python 3 (ipykernel)",
   "language": "python",
   "name": "python3"
  },
  "language_info": {
   "codemirror_mode": {
    "name": "ipython",
    "version": 3
   },
   "file_extension": ".py",
   "mimetype": "text/x-python",
   "name": "python",
   "nbconvert_exporter": "python",
   "pygments_lexer": "ipython3",
   "version": "3.9.7"
  }
 },
 "nbformat": 4,
 "nbformat_minor": 5
}
