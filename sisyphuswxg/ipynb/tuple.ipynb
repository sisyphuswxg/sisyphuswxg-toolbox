{
 "cells": [
  {
   "cell_type": "markdown",
   "id": "6f28bda9",
   "metadata": {},
   "source": [
    "# 元组\n",
    "\n",
    "元组是不能被修改元素值的数据结构，其长度固定，用小括号`()`表示。"
   ]
  },
  {
   "cell_type": "markdown",
   "id": "d5fd3f31",
   "metadata": {},
   "source": [
    "**目录**\n",
    ">- 创建元组\n",
    ">- 获取元素\n",
    ">- 拼接元组\n",
    ">- 删除元组\n",
    ">- 元组切片\n",
    ">- \n",
    ">- 其他小知识点~~\n",
    ">-\n",
    ">- 常用元组方法\n",
    "\n"
   ]
  },
  {
   "cell_type": "markdown",
   "id": "8639a287",
   "metadata": {},
   "source": [
    "---------"
   ]
  },
  {
   "cell_type": "markdown",
   "id": "34fe6fb7",
   "metadata": {},
   "source": [
    "## 创建元组\n",
    "\n"
   ]
  },
  {
   "cell_type": "markdown",
   "id": "a20ce6a9",
   "metadata": {},
   "source": [
    "- 使用()创建元组，元素之间使用逗号分隔。（与列表类似，但是元组中的元素不能修改）"
   ]
  },
  {
   "cell_type": "code",
   "execution_count": 3,
   "id": "e8999ad5",
   "metadata": {},
   "outputs": [
    {
     "name": "stdout",
     "output_type": "stream",
     "text": [
      "<class 'tuple'>\n",
      "('hello', 'python', 1, 2, 3)\n"
     ]
    }
   ],
   "source": [
    "tup = (\"hello\", \"python\", 1, 2, 3)\n",
    "print(type(tup))\n",
    "print(tup)"
   ]
  },
  {
   "cell_type": "markdown",
   "id": "4698262e",
   "metadata": {},
   "source": [
    "- 使用tuple()创建空元组"
   ]
  },
  {
   "cell_type": "code",
   "execution_count": 13,
   "id": "75414c88",
   "metadata": {},
   "outputs": [
    {
     "name": "stdout",
     "output_type": "stream",
     "text": [
      "<class 'tuple'>\n"
     ]
    }
   ],
   "source": [
    "tup = tuple()\n",
    "print(type(tup))"
   ]
  },
  {
   "cell_type": "markdown",
   "id": "938b0d49",
   "metadata": {},
   "source": [
    "- 还可以使用tuple()将列表转换成元组"
   ]
  },
  {
   "cell_type": "code",
   "execution_count": 28,
   "id": "a7f5eee6",
   "metadata": {},
   "outputs": [
    {
     "name": "stdout",
     "output_type": "stream",
     "text": [
      "(1, 2, 3, 4)\n"
     ]
    }
   ],
   "source": [
    "list1 = [1, 2, 3, 4]\n",
    "print(tuple(list1))"
   ]
  },
  {
   "cell_type": "markdown",
   "id": "5283296c",
   "metadata": {},
   "source": [
    "------"
   ]
  },
  {
   "cell_type": "markdown",
   "id": "7e6d461b",
   "metadata": {},
   "source": [
    "## 获取元素\n",
    "可以使用索引获取元组中的元素，索引从0开始，可以使用负数索引。【和列表类似】"
   ]
  },
  {
   "cell_type": "code",
   "execution_count": 10,
   "id": "7a826d15",
   "metadata": {},
   "outputs": [
    {
     "name": "stdout",
     "output_type": "stream",
     "text": [
      "python\n",
      "hello\n",
      "3\n"
     ]
    }
   ],
   "source": [
    "tup = (\"hello\", \"python\", 1, 2, 3)\n",
    "print(tup[1])\n",
    "print(tup[0])\n",
    "print(tup[-1])"
   ]
  },
  {
   "cell_type": "markdown",
   "id": "f37ad5b8",
   "metadata": {},
   "source": [
    "- 当索引值越界后，会报错：IndexError"
   ]
  },
  {
   "cell_type": "code",
   "execution_count": 11,
   "id": "e27f1ffb",
   "metadata": {},
   "outputs": [
    {
     "ename": "IndexError",
     "evalue": "tuple index out of range",
     "output_type": "error",
     "traceback": [
      "\u001b[0;31m---------------------------------------------------------------------------\u001b[0m",
      "\u001b[0;31mIndexError\u001b[0m                                Traceback (most recent call last)",
      "\u001b[0;32m/var/folders/lz/t2t7xdbn71315k9c9j38gnd80000gn/T/ipykernel_30132/3340710223.py\u001b[0m in \u001b[0;36m<module>\u001b[0;34m\u001b[0m\n\u001b[1;32m      1\u001b[0m \u001b[0mtup\u001b[0m \u001b[0;34m=\u001b[0m \u001b[0;34m(\u001b[0m\u001b[0;34m\"hello\"\u001b[0m\u001b[0;34m,\u001b[0m \u001b[0;34m\"python\"\u001b[0m\u001b[0;34m,\u001b[0m \u001b[0;36m1\u001b[0m\u001b[0;34m,\u001b[0m \u001b[0;36m2\u001b[0m\u001b[0;34m,\u001b[0m \u001b[0;36m3\u001b[0m\u001b[0;34m)\u001b[0m\u001b[0;34m\u001b[0m\u001b[0;34m\u001b[0m\u001b[0m\n\u001b[0;32m----> 2\u001b[0;31m \u001b[0mprint\u001b[0m\u001b[0;34m(\u001b[0m\u001b[0mtup\u001b[0m\u001b[0;34m[\u001b[0m\u001b[0;36m100\u001b[0m\u001b[0;34m]\u001b[0m\u001b[0;34m)\u001b[0m\u001b[0;34m\u001b[0m\u001b[0;34m\u001b[0m\u001b[0m\n\u001b[0m",
      "\u001b[0;31mIndexError\u001b[0m: tuple index out of range"
     ]
    }
   ],
   "source": [
    "tup = (\"hello\", \"python\", 1, 2, 3)\n",
    "print(tup[100])"
   ]
  },
  {
   "cell_type": "markdown",
   "id": "68c60696",
   "metadata": {},
   "source": [
    "-----------"
   ]
  },
  {
   "cell_type": "markdown",
   "id": "0accc356",
   "metadata": {},
   "source": [
    "## 拼接元组\n",
    "拼接元组是将两个元组拼接成一个新的元组，使用`+`操作符即可。\n"
   ]
  },
  {
   "cell_type": "code",
   "execution_count": 12,
   "id": "47ce9035",
   "metadata": {},
   "outputs": [
    {
     "name": "stdout",
     "output_type": "stream",
     "text": [
      "(1, 2, 3, 4, 5)\n"
     ]
    }
   ],
   "source": [
    "tup1 = (1, 2)\n",
    "tup2 = (3, 4, 5)\n",
    "tup3 = tup1 + tup2\n",
    "print(tup3)"
   ]
  },
  {
   "cell_type": "markdown",
   "id": "5f0b5b57",
   "metadata": {},
   "source": [
    "-----------"
   ]
  },
  {
   "cell_type": "markdown",
   "id": "ca002b2d",
   "metadata": {},
   "source": [
    "## 删除元组\n",
    "注意：元组中的单个元素不能删除，但是可以将整个元组删除。删除元组使用del\n"
   ]
  },
  {
   "cell_type": "code",
   "execution_count": 16,
   "id": "f3972518",
   "metadata": {},
   "outputs": [
    {
     "ename": "NameError",
     "evalue": "name 'tup1' is not defined",
     "output_type": "error",
     "traceback": [
      "\u001b[0;31m---------------------------------------------------------------------------\u001b[0m",
      "\u001b[0;31mNameError\u001b[0m                                 Traceback (most recent call last)",
      "\u001b[0;32m/var/folders/lz/t2t7xdbn71315k9c9j38gnd80000gn/T/ipykernel_30132/1890430557.py\u001b[0m in \u001b[0;36m<module>\u001b[0;34m\u001b[0m\n\u001b[1;32m      1\u001b[0m \u001b[0mtup1\u001b[0m \u001b[0;34m=\u001b[0m \u001b[0;34m(\u001b[0m\u001b[0;36m1\u001b[0m\u001b[0;34m,\u001b[0m \u001b[0;36m2\u001b[0m\u001b[0;34m)\u001b[0m\u001b[0;34m\u001b[0m\u001b[0;34m\u001b[0m\u001b[0m\n\u001b[1;32m      2\u001b[0m \u001b[0;32mdel\u001b[0m \u001b[0mtup1\u001b[0m\u001b[0;34m\u001b[0m\u001b[0;34m\u001b[0m\u001b[0m\n\u001b[0;32m----> 3\u001b[0;31m \u001b[0mprint\u001b[0m\u001b[0;34m(\u001b[0m\u001b[0mtup1\u001b[0m\u001b[0;34m)\u001b[0m\u001b[0;34m\u001b[0m\u001b[0;34m\u001b[0m\u001b[0m\n\u001b[0m",
      "\u001b[0;31mNameError\u001b[0m: name 'tup1' is not defined"
     ]
    }
   ],
   "source": [
    "tup1 = (1, 2)\n",
    "del tup1\n",
    "print(tup1)"
   ]
  },
  {
   "cell_type": "markdown",
   "id": "d1964374",
   "metadata": {},
   "source": [
    "---------"
   ]
  },
  {
   "cell_type": "markdown",
   "id": "0b64e051",
   "metadata": {},
   "source": [
    "## 元组切片\n",
    "通过元组切片可以获取元组中的部分元素，并且返回一个新的元组。【类似数组切片】"
   ]
  },
  {
   "cell_type": "markdown",
   "id": "d4214006",
   "metadata": {},
   "source": [
    "- tup[start:end:step]：截取开始索引到结束索引的元素（不包括结束索引的元素）,step表示步长"
   ]
  },
  {
   "cell_type": "code",
   "execution_count": 19,
   "id": "51dc4766",
   "metadata": {},
   "outputs": [
    {
     "name": "stdout",
     "output_type": "stream",
     "text": [
      "(3, 4, 5)\n"
     ]
    }
   ],
   "source": [
    "tup = (1, 2, 3, 4, 5, 6, 7, 8)\n",
    "print(tup[2:5])"
   ]
  },
  {
   "cell_type": "markdown",
   "id": "82375dc6",
   "metadata": {},
   "source": [
    "- start索引值可以为空：表示从索引为0处开始\n",
    "\n",
    "- end索引值可以为空：表示截取到元组最后"
   ]
  },
  {
   "cell_type": "code",
   "execution_count": 20,
   "id": "7e602883",
   "metadata": {},
   "outputs": [
    {
     "name": "stdout",
     "output_type": "stream",
     "text": [
      "(1, 2, 3, 4, 5)\n",
      "(4, 5, 6, 7, 8)\n"
     ]
    }
   ],
   "source": [
    "tup = (1, 2, 3, 4, 5, 6, 7, 8)\n",
    "print(tup[:5])\n",
    "print(tup[3:])"
   ]
  },
  {
   "cell_type": "markdown",
   "id": "4bae65a1",
   "metadata": {},
   "source": [
    "- step：表示步长（每个步长取一个元素）\n"
   ]
  },
  {
   "cell_type": "code",
   "execution_count": 21,
   "id": "5f39d85d",
   "metadata": {},
   "outputs": [
    {
     "name": "stdout",
     "output_type": "stream",
     "text": [
      "(1, 3, 5, 7)\n"
     ]
    }
   ],
   "source": [
    "tup = (1, 2, 3, 4, 5, 6, 7, 8)\n",
    "print(tup[0::2])"
   ]
  },
  {
   "cell_type": "markdown",
   "id": "cca64c1e",
   "metadata": {},
   "source": [
    "- 注意：切片操作不会引起下标越界异常。"
   ]
  },
  {
   "cell_type": "code",
   "execution_count": 22,
   "id": "ff9d44a1",
   "metadata": {},
   "outputs": [
    {
     "name": "stdout",
     "output_type": "stream",
     "text": [
      "()\n"
     ]
    }
   ],
   "source": [
    "tup = (1, 2, 3, 4, 5, 6, 7, 8)\n",
    "print(tup[100:])"
   ]
  },
  {
   "cell_type": "markdown",
   "id": "614e928c",
   "metadata": {},
   "source": [
    "--------------"
   ]
  },
  {
   "cell_type": "markdown",
   "id": "279598f5",
   "metadata": {},
   "source": [
    "## 小知识点"
   ]
  },
  {
   "cell_type": "code",
   "execution_count": null,
   "id": "31356be1",
   "metadata": {},
   "outputs": [],
   "source": []
  },
  {
   "cell_type": "code",
   "execution_count": null,
   "id": "b78e906a",
   "metadata": {},
   "outputs": [],
   "source": []
  },
  {
   "cell_type": "code",
   "execution_count": null,
   "id": "0140111a",
   "metadata": {},
   "outputs": [],
   "source": []
  },
  {
   "cell_type": "markdown",
   "id": "9937cbf9",
   "metadata": {},
   "source": [
    "## 常用元组方法"
   ]
  },
  {
   "cell_type": "markdown",
   "id": "25b9d040",
   "metadata": {},
   "source": [
    "- len()：元组长度"
   ]
  },
  {
   "cell_type": "code",
   "execution_count": 24,
   "id": "ee65a951",
   "metadata": {},
   "outputs": [
    {
     "name": "stdout",
     "output_type": "stream",
     "text": [
      "8\n"
     ]
    }
   ],
   "source": [
    "tup = (1, 2, 3, 4, 5, 6, 7, 8)\n",
    "print(len(tup))"
   ]
  },
  {
   "cell_type": "markdown",
   "id": "85a625ca",
   "metadata": {},
   "source": [
    "- max()：获取元组中最大的元素值\n",
    "\n",
    "- min()：获取元组中最小的元素值"
   ]
  },
  {
   "cell_type": "code",
   "execution_count": 26,
   "id": "ee4c9c9b",
   "metadata": {},
   "outputs": [
    {
     "name": "stdout",
     "output_type": "stream",
     "text": [
      "8\n",
      "1\n"
     ]
    }
   ],
   "source": [
    "tup = (1, 2, 3, 4, 5, 6, 7, 8)\n",
    "print(max(tup))\n",
    "print(min(tup))"
   ]
  },
  {
   "cell_type": "code",
   "execution_count": null,
   "id": "f4b88f3d",
   "metadata": {},
   "outputs": [],
   "source": []
  },
  {
   "cell_type": "code",
   "execution_count": null,
   "id": "2492dbd4",
   "metadata": {},
   "outputs": [],
   "source": []
  },
  {
   "cell_type": "code",
   "execution_count": null,
   "id": "9c604980",
   "metadata": {},
   "outputs": [],
   "source": []
  },
  {
   "cell_type": "code",
   "execution_count": null,
   "id": "c8a88c91",
   "metadata": {},
   "outputs": [],
   "source": []
  }
 ],
 "metadata": {
  "kernelspec": {
   "display_name": "Python 3 (ipykernel)",
   "language": "python",
   "name": "python3"
  },
  "language_info": {
   "codemirror_mode": {
    "name": "ipython",
    "version": 3
   },
   "file_extension": ".py",
   "mimetype": "text/x-python",
   "name": "python",
   "nbconvert_exporter": "python",
   "pygments_lexer": "ipython3",
   "version": "3.9.7"
  }
 },
 "nbformat": 4,
 "nbformat_minor": 5
}
